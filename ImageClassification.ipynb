{
  "nbformat": 4,
  "nbformat_minor": 0,
  "metadata": {
    "colab": {
      "name": "Untitled19.ipynb",
      "provenance": [],
      "mount_file_id": "1X1IQZmFsV3vyiHNjEtA3K357Yzzw-Nr-",
      "authorship_tag": "ABX9TyOmPfNxY0cyBCxbtTVsj3e/",
      "include_colab_link": true
    },
    "kernelspec": {
      "name": "python3",
      "display_name": "Python 3"
    },
    "language_info": {
      "name": "python"
    },
    "accelerator": "GPU"
  },
  "cells": [
    {
      "cell_type": "markdown",
      "metadata": {
        "id": "view-in-github",
        "colab_type": "text"
      },
      "source": [
        "<a href=\"https://colab.research.google.com/github/ShikhaVishwakarma/EagleView-DL-ML-Assignment-for-Data-Scientist/blob/main/ImageClassification.ipynb\" target=\"_parent\"><img src=\"https://colab.research.google.com/assets/colab-badge.svg\" alt=\"Open In Colab\"/></a>"
      ]
    },
    {
      "cell_type": "code",
      "metadata": {
        "id": "UYWS06CIYlKn"
      },
      "source": [
        "import numpy as np\n",
        "import pandas as pd\n",
        "from pathlib import Path\n",
        "import os.path\n",
        "\n",
        "import matplotlib.pyplot as plt\n",
        "import seaborn as sns\n",
        "\n",
        "from sklearn.model_selection import train_test_split\n",
        "\n",
        "import tensorflow as tf\n",
        "\n",
        "from sklearn.metrics import confusion_matrix, classification_report\n",
        "\n",
        "from keras.preprocessing.image import load_img, img_to_array"
      ],
      "execution_count": 25,
      "outputs": []
    },
    {
      "cell_type": "code",
      "metadata": {
        "id": "843OpNcswUTm"
      },
      "source": [
        "from google.colab import files\n",
        "import cv2\n",
        "import matplotlib.pyplot as plt"
      ],
      "execution_count": 26,
      "outputs": []
    },
    {
      "cell_type": "code",
      "metadata": {
        "id": "Pa01wCrgcvFx",
        "colab": {
          "base_uri": "https://localhost:8080/"
        },
        "outputId": "70f74a6f-bf71-49dd-c1ea-92d0e11cdf1d"
      },
      "source": [
        "from google.colab import drive\n",
        "drive.mount('/content/gdrive')"
      ],
      "execution_count": 27,
      "outputs": [
        {
          "output_type": "stream",
          "name": "stdout",
          "text": [
            "Mounted at /content/gdrive\n"
          ]
        }
      ]
    },
    {
      "cell_type": "code",
      "metadata": {
        "id": "hm3w27c230pT"
      },
      "source": [
        "image_dir=Path('/content/gdrive/MyDrive/CarPerson')"
      ],
      "execution_count": 28,
      "outputs": []
    },
    {
      "cell_type": "code",
      "metadata": {
        "id": "rHMaA8YUVbtv",
        "colab": {
          "base_uri": "https://localhost:8080/",
          "height": 423
        },
        "outputId": "24eb8dc2-540d-4cd3-e876-3b631fee5e7e"
      },
      "source": [
        "filepaths=list(image_dir.glob(r'**/*.jpg'))\n",
        "labels = list(map(lambda x: os.path.split(os.path.split(x)[0])[1], filepaths))\n",
        "\n",
        "filepaths = pd.Series(filepaths, name='Filepath').astype(str)\n",
        "labels = pd.Series(labels, name='Label')\n",
        "image_df = pd.concat([filepaths, labels], axis=1)\n",
        "image_df"
      ],
      "execution_count": 29,
      "outputs": [
        {
          "output_type": "execute_result",
          "data": {
            "text/html": [
              "<div>\n",
              "<style scoped>\n",
              "    .dataframe tbody tr th:only-of-type {\n",
              "        vertical-align: middle;\n",
              "    }\n",
              "\n",
              "    .dataframe tbody tr th {\n",
              "        vertical-align: top;\n",
              "    }\n",
              "\n",
              "    .dataframe thead th {\n",
              "        text-align: right;\n",
              "    }\n",
              "</style>\n",
              "<table border=\"1\" class=\"dataframe\">\n",
              "  <thead>\n",
              "    <tr style=\"text-align: right;\">\n",
              "      <th></th>\n",
              "      <th>Filepath</th>\n",
              "      <th>Label</th>\n",
              "    </tr>\n",
              "  </thead>\n",
              "  <tbody>\n",
              "    <tr>\n",
              "      <th>0</th>\n",
              "      <td>/content/gdrive/MyDrive/CarPerson/Person/image...</td>\n",
              "      <td>Person</td>\n",
              "    </tr>\n",
              "    <tr>\n",
              "      <th>1</th>\n",
              "      <td>/content/gdrive/MyDrive/CarPerson/Person/image...</td>\n",
              "      <td>Person</td>\n",
              "    </tr>\n",
              "    <tr>\n",
              "      <th>2</th>\n",
              "      <td>/content/gdrive/MyDrive/CarPerson/Person/image...</td>\n",
              "      <td>Person</td>\n",
              "    </tr>\n",
              "    <tr>\n",
              "      <th>3</th>\n",
              "      <td>/content/gdrive/MyDrive/CarPerson/Person/image...</td>\n",
              "      <td>Person</td>\n",
              "    </tr>\n",
              "    <tr>\n",
              "      <th>4</th>\n",
              "      <td>/content/gdrive/MyDrive/CarPerson/Person/image...</td>\n",
              "      <td>Person</td>\n",
              "    </tr>\n",
              "    <tr>\n",
              "      <th>...</th>\n",
              "      <td>...</td>\n",
              "      <td>...</td>\n",
              "    </tr>\n",
              "    <tr>\n",
              "      <th>2234</th>\n",
              "      <td>/content/gdrive/MyDrive/CarPerson/Car/image_00...</td>\n",
              "      <td>Car</td>\n",
              "    </tr>\n",
              "    <tr>\n",
              "      <th>2235</th>\n",
              "      <td>/content/gdrive/MyDrive/CarPerson/Car/image_00...</td>\n",
              "      <td>Car</td>\n",
              "    </tr>\n",
              "    <tr>\n",
              "      <th>2236</th>\n",
              "      <td>/content/gdrive/MyDrive/CarPerson/Car/image_00...</td>\n",
              "      <td>Car</td>\n",
              "    </tr>\n",
              "    <tr>\n",
              "      <th>2237</th>\n",
              "      <td>/content/gdrive/MyDrive/CarPerson/Car/image_00...</td>\n",
              "      <td>Car</td>\n",
              "    </tr>\n",
              "    <tr>\n",
              "      <th>2238</th>\n",
              "      <td>/content/gdrive/MyDrive/CarPerson/Car/image_00...</td>\n",
              "      <td>Car</td>\n",
              "    </tr>\n",
              "  </tbody>\n",
              "</table>\n",
              "<p>2239 rows × 2 columns</p>\n",
              "</div>"
            ],
            "text/plain": [
              "                                               Filepath   Label\n",
              "0     /content/gdrive/MyDrive/CarPerson/Person/image...  Person\n",
              "1     /content/gdrive/MyDrive/CarPerson/Person/image...  Person\n",
              "2     /content/gdrive/MyDrive/CarPerson/Person/image...  Person\n",
              "3     /content/gdrive/MyDrive/CarPerson/Person/image...  Person\n",
              "4     /content/gdrive/MyDrive/CarPerson/Person/image...  Person\n",
              "...                                                 ...     ...\n",
              "2234  /content/gdrive/MyDrive/CarPerson/Car/image_00...     Car\n",
              "2235  /content/gdrive/MyDrive/CarPerson/Car/image_00...     Car\n",
              "2236  /content/gdrive/MyDrive/CarPerson/Car/image_00...     Car\n",
              "2237  /content/gdrive/MyDrive/CarPerson/Car/image_00...     Car\n",
              "2238  /content/gdrive/MyDrive/CarPerson/Car/image_00...     Car\n",
              "\n",
              "[2239 rows x 2 columns]"
            ]
          },
          "metadata": {},
          "execution_count": 29
        }
      ]
    },
    {
      "cell_type": "code",
      "metadata": {
        "id": "j1VVw05bqKRJ"
      },
      "source": [
        "train_df, test_df = train_test_split(image_df, train_size=0.7, shuffle=True, random_state=1)"
      ],
      "execution_count": 30,
      "outputs": []
    },
    {
      "cell_type": "code",
      "metadata": {
        "id": "WtmD6Dj4q-3m"
      },
      "source": [
        "train_generator = tf.keras.preprocessing.image.ImageDataGenerator(\n",
        "    rescale=1./255,\n",
        "    horizontal_flip=True,\n",
        "    width_shift_range=0.2,\n",
        "    height_shift_range=0.2,\n",
        "    validation_split=0.2\n",
        ")\n",
        "\n",
        "test_generator = tf.keras.preprocessing.image.ImageDataGenerator(\n",
        "    rescale=1./255\n",
        ")"
      ],
      "execution_count": 31,
      "outputs": []
    },
    {
      "cell_type": "code",
      "metadata": {
        "colab": {
          "base_uri": "https://localhost:8080/"
        },
        "id": "Dg4agSZtrIBZ",
        "outputId": "2d51c76f-b7be-45b6-e920-d44c86c324d7"
      },
      "source": [
        "train_images = train_generator.flow_from_dataframe(\n",
        "    dataframe=train_df,\n",
        "    x_col='Filepath',\n",
        "    y_col='Label',\n",
        "    target_size=(224, 224),\n",
        "    color_mode='rgb',\n",
        "    class_mode='binary',\n",
        "    batch_size=32,\n",
        "    shuffle=True,\n",
        "    seed=42,\n",
        "    subset='training'\n",
        ")\n",
        "val_images = train_generator.flow_from_dataframe(\n",
        "    dataframe=train_df,\n",
        "    x_col='Filepath',\n",
        "    y_col='Label',\n",
        "    target_size=(224, 224),\n",
        "    color_mode='rgb',\n",
        "    class_mode='binary',\n",
        "    batch_size=32,\n",
        "    shuffle=True,\n",
        "    seed=42,\n",
        "    subset='validation'\n",
        ")\n",
        "test_images = test_generator.flow_from_dataframe(\n",
        "    dataframe=test_df,\n",
        "    x_col='Filepath',\n",
        "    y_col='Label',\n",
        "    target_size=(224, 224),\n",
        "    color_mode='rgb',\n",
        "    class_mode='binary',\n",
        "    batch_size=32,\n",
        "    shuffle=False\n",
        ")"
      ],
      "execution_count": 32,
      "outputs": [
        {
          "output_type": "stream",
          "name": "stdout",
          "text": [
            "Found 1254 validated image filenames belonging to 2 classes.\n",
            "Found 313 validated image filenames belonging to 2 classes.\n",
            "Found 672 validated image filenames belonging to 2 classes.\n"
          ]
        }
      ]
    },
    {
      "cell_type": "markdown",
      "metadata": {
        "id": "zjgUQ899E8MV"
      },
      "source": [
        "#Training\n"
      ]
    },
    {
      "cell_type": "code",
      "metadata": {
        "colab": {
          "base_uri": "https://localhost:8080/"
        },
        "id": "mXS5nY4jE4dm",
        "outputId": "72a62b0a-0189-4f13-d1b0-61eb32df9a01"
      },
      "source": [
        "inputs = tf.keras.Input(shape=(224, 224, 3))\n",
        "x = tf.keras.layers.Conv2D(filters=16, kernel_size=(3, 3), activation='relu')(inputs)\n",
        "x = tf.keras.layers.MaxPool2D()(x)\n",
        "x = tf.keras.layers.Conv2D(filters=32, kernel_size=(3, 3), activation='relu')(x)\n",
        "x = tf.keras.layers.MaxPool2D()(x)\n",
        "x = tf.keras.layers.GlobalAveragePooling2D()(x)\n",
        "x = tf.keras.layers.Dense(128, activation='relu')(x)\n",
        "x = tf.keras.layers.Dense(128, activation='relu')(x)\n",
        "outputs = tf.keras.layers.Dense(1, activation='sigmoid')(x)\n",
        "\n",
        "model = tf.keras.Model(inputs=inputs, outputs=outputs)\n",
        "\n",
        "model.compile(\n",
        "    optimizer='adam',\n",
        "    loss='binary_crossentropy',\n",
        "    metrics=['accuracy']\n",
        ")\n",
        "\n",
        "history = model.fit(\n",
        "    train_images,\n",
        "    validation_data=val_images,\n",
        "    epochs=100,\n",
        "    callbacks=[\n",
        "        tf.keras.callbacks.EarlyStopping(\n",
        "            monitor='val_loss',\n",
        "            patience=5,\n",
        "            restore_best_weights=True\n",
        "        ),\n",
        "        tf.keras.callbacks.ReduceLROnPlateau(\n",
        "            monitor='val_loss',\n",
        "            patience=3\n",
        "        )\n",
        "    ]\n",
        ")"
      ],
      "execution_count": 33,
      "outputs": [
        {
          "output_type": "stream",
          "name": "stdout",
          "text": [
            "Epoch 1/100\n",
            "40/40 [==============================] - 42s 1s/step - loss: 0.6942 - accuracy: 0.4872 - val_loss: 0.6936 - val_accuracy: 0.4728 - lr: 0.0010\n",
            "Epoch 2/100\n",
            "40/40 [==============================] - 41s 1s/step - loss: 0.6933 - accuracy: 0.5008 - val_loss: 0.6936 - val_accuracy: 0.4728 - lr: 0.0010\n",
            "Epoch 3/100\n",
            "40/40 [==============================] - 41s 1s/step - loss: 0.6945 - accuracy: 0.5072 - val_loss: 0.6922 - val_accuracy: 0.5272 - lr: 0.0010\n",
            "Epoch 4/100\n",
            "40/40 [==============================] - 41s 1s/step - loss: 0.6940 - accuracy: 0.4952 - val_loss: 0.6939 - val_accuracy: 0.4728 - lr: 0.0010\n",
            "Epoch 5/100\n",
            "40/40 [==============================] - 41s 1s/step - loss: 0.6932 - accuracy: 0.5056 - val_loss: 0.6941 - val_accuracy: 0.4728 - lr: 0.0010\n",
            "Epoch 6/100\n",
            "40/40 [==============================] - 42s 1s/step - loss: 0.6932 - accuracy: 0.5088 - val_loss: 0.6934 - val_accuracy: 0.4824 - lr: 0.0010\n",
            "Epoch 7/100\n",
            "40/40 [==============================] - 41s 1s/step - loss: 0.6929 - accuracy: 0.5120 - val_loss: 0.6935 - val_accuracy: 0.4856 - lr: 1.0000e-04\n",
            "Epoch 8/100\n",
            "40/40 [==============================] - 40s 998ms/step - loss: 0.6928 - accuracy: 0.5152 - val_loss: 0.6935 - val_accuracy: 0.4984 - lr: 1.0000e-04\n"
          ]
        }
      ]
    },
    {
      "cell_type": "code",
      "metadata": {
        "colab": {
          "base_uri": "https://localhost:8080/"
        },
        "id": "kgasKxaDKHO-",
        "outputId": "1cf01b63-415d-41a7-f750-59d412c8d671"
      },
      "source": [
        "train_images.class_indices"
      ],
      "execution_count": 34,
      "outputs": [
        {
          "output_type": "execute_result",
          "data": {
            "text/plain": [
              "{'Car': 0, 'Person': 1}"
            ]
          },
          "metadata": {},
          "execution_count": 34
        }
      ]
    },
    {
      "cell_type": "code",
      "metadata": {
        "colab": {
          "base_uri": "https://localhost:8080/"
        },
        "id": "AkxM2CUHIfzy",
        "outputId": "0fa17259-ca6a-4b8d-b66f-c9dcb3209234"
      },
      "source": [
        "results = model.evaluate(test_images, verbose=0)\n",
        "\n",
        "print(\"    Test Loss: {:.5f}\".format(results[0]))\n",
        "print(\"Test Accuracy: {:.2f}%\".format(results[1] * 100))"
      ],
      "execution_count": 35,
      "outputs": [
        {
          "output_type": "stream",
          "name": "stdout",
          "text": [
            "    Test Loss: 0.69370\n",
            "Test Accuracy: 49.26%\n"
          ]
        }
      ]
    },
    {
      "cell_type": "code",
      "metadata": {
        "colab": {
          "base_uri": "https://localhost:8080/"
        },
        "id": "l0SNrWyQJiD4",
        "outputId": "c0bc3a55-6671-42da-c08e-bb754c430b0c"
      },
      "source": [
        "predictions = (model.predict(test_images) >= 0.5).astype(np.int)\n",
        "\n",
        "#cm = confusion_matrix(test_images.labels, predictions, labels=[0, 1])\n",
        "clr = classification_report(test_images.labels, predictions, labels=[0, 1], target_names=[\"CAR\", \"PERSON\"])\n",
        "\n",
        "#plt.figure(figsize=(6, 6))\n",
        "#sns.heatmap(cm, annot=True, fmt='g', vmin=0, cmap='Blues', cbar=False)\n",
        "#plt.xticks(ticks=[0.5, 1.5], labels=[\"CAR\", \"PERSON\"])\n",
        "#plt.yticks(ticks=[0.5, 1.5], labels=[\"CAR\", \"PRESON\"])\n",
        "#plt.xlabel(\"Predicted\")\n",
        "#plt.ylabel(\"Actual\")\n",
        "#plt.title(\"Confusion Matrix\")\n",
        "#plt.show()\n",
        "\n",
        "print(\"Classification Report:\\n----------------------\\n\", clr)"
      ],
      "execution_count": 37,
      "outputs": [
        {
          "output_type": "stream",
          "name": "stdout",
          "text": [
            "Classification Report:\n",
            "----------------------\n",
            "               precision    recall  f1-score   support\n",
            "\n",
            "         CAR       0.49      1.00      0.66       332\n",
            "      PERSON       0.00      0.00      0.00       340\n",
            "\n",
            "    accuracy                           0.49       672\n",
            "   macro avg       0.25      0.50      0.33       672\n",
            "weighted avg       0.24      0.49      0.33       672\n",
            "\n"
          ]
        }
      ]
    },
    {
      "cell_type": "code",
      "metadata": {
        "colab": {
          "base_uri": "https://localhost:8080/",
          "height": 316
        },
        "id": "dz29-a4VN6JT",
        "outputId": "e0a2bebe-0688-47e0-8d84-dbf70d051926"
      },
      "source": [
        "#Path to the image to see if the model predicts the correct class\n",
        "path=\"/content/48a7eaf8914ce196bd77acacfb58b262.jpg\"\n",
        "img=load_img(path,target_size=(224,224))\n",
        "\n",
        "i=img_to_array(img)\n",
        "i=preprocess_input(i)\n",
        "\n",
        "input_arr=np.array([i])\n",
        "input_arr.shape\n",
        "\n",
        "pred=np.argmax(model.predict(input_arr))\n",
        "\n",
        "if pred==0:\n",
        "  print('The image is of a car.')\n",
        "else:\n",
        "  print('The image is of a person.')\n",
        "\n",
        "#To display an image\n",
        "plt.imshow(input_arr[0])\n",
        "plt.title('input image')\n",
        "plt.show()"
      ],
      "execution_count": 38,
      "outputs": [
        {
          "output_type": "stream",
          "name": "stderr",
          "text": [
            "Clipping input data to the valid range for imshow with RGB data ([0..1] for floats or [0..255] for integers).\n"
          ]
        },
        {
          "output_type": "stream",
          "name": "stdout",
          "text": [
            "The image is of a car.\n"
          ]
        },
        {
          "output_type": "display_data",
          "data": {
            "image/png": "[encoded data removed]",
            "text/plain": [
              "<Figure size 432x288 with 1 Axes>"
            ]
          },
          "metadata": {
            "needs_background": "light"
          }
        }
      ]
    }
  ]
}